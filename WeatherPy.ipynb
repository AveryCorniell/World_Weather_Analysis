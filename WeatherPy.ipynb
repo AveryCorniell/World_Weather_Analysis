{
 "cells": [
  {
   "cell_type": "markdown",
   "id": "ef3a81cf",
   "metadata": {},
   "source": [
    "# 6.1.4 Create Latitude and Longitude Combinations"
   ]
  },
  {
   "cell_type": "code",
   "execution_count": 56,
   "id": "77cb6672",
   "metadata": {},
   "outputs": [],
   "source": [
    "# Import the dependencies.\n",
    "import pandas as pd\n",
    "import matplotlib.pyplot as plt\n",
    "import numpy as np"
   ]
  },
  {
   "cell_type": "code",
   "execution_count": 57,
   "id": "4fb713fc",
   "metadata": {},
   "outputs": [],
   "source": [
    "# Add the code that generates the latitudes and longitudes\n",
    "#     first, they need to be stored for later access\n",
    "#     declare each array as a variable since an array of latitudes and longitudes is being created.\n",
    "\n",
    "# To ensure enough lats and longs are created, begin with 1500\n",
    "# Pack the lats and longs as pairs and zip them (lat_lngs) with the \"zip()\" function.\n",
    "    # zip object packs each pair of lats lngs having the same index in their respective array into a tuple\n",
    "        # Example: if there are 1500 latitudes and longitudes, there will be 1500 tuples of paired latitudes and longitudes\n",
    "        #      where each latitude and longitude in a tuple can be accessed by the index of 0 and 1 respectively.\n",
    "        \n",
    "        # **Can only unzip a zipped tuple once before it is removed from the computer's memory. \n",
    "        # **Ensure to unzip the latitudes and longitudes into the coordinates list before moving on."
   ]
  },
  {
   "cell_type": "code",
   "execution_count": 58,
   "id": "83f5859d",
   "metadata": {},
   "outputs": [
    {
     "data": {
      "text/plain": [
       "<zip at 0x20c9cadf080>"
      ]
     },
     "execution_count": 58,
     "metadata": {},
     "output_type": "execute_result"
    }
   ],
   "source": [
    "# Create a set of random latitude and longitude combinations and \"zip()\" them.\n",
    "lats = np.random.uniform(low=-90.000, high=90.000, size=1500)\n",
    "lngs = np.random.uniform(low=-180.000, high=180.000, size=1500)\n",
    "lat_lngs = zip(lats, lngs)\n",
    "lat_lngs"
   ]
  },
  {
   "cell_type": "code",
   "execution_count": 59,
   "id": "f68b9318",
   "metadata": {},
   "outputs": [],
   "source": [
    "# Add the latitudes and longitudes to a list.\n",
    "coordinates = list(lat_lngs)"
   ]
  },
  {
   "cell_type": "code",
   "execution_count": 60,
   "id": "5fd2f839",
   "metadata": {},
   "outputs": [],
   "source": [
    "# Once ordered pairs have been created and put into a list(array)\n",
    "#      iterate through the list of tuples and find the nearest city to the coordinates."
   ]
  },
  {
   "cell_type": "markdown",
   "id": "131a4973",
   "metadata": {},
   "source": [
    "# 6.1.5 Generate Random World Cities"
   ]
  },
  {
   "cell_type": "code",
   "execution_count": 61,
   "id": "58cd8ea4",
   "metadata": {},
   "outputs": [],
   "source": [
    "# Match coordinates up with cities\n",
    "    # With the list of random latitudes and longitudes, use the coordinates in lat_lngs tuple to find the nearest city\n",
    "    #      using Python's \"citipy module\".\n",
    "\n",
    "# Install(using \"pip install citipy\" from the PythonData Anaconda Prompt), Import and Test \"CityPy\" module."
   ]
  },
  {
   "cell_type": "code",
   "execution_count": 62,
   "id": "d878b530",
   "metadata": {},
   "outputs": [],
   "source": [
    "# Use the citipy module to determine city based on latitude and longitude.\n",
    "from citipy import citipy"
   ]
  },
  {
   "cell_type": "code",
   "execution_count": 63,
   "id": "78ac85ac",
   "metadata": {},
   "outputs": [],
   "source": [
    "# Create a list for holding the cities[].\n",
    "# Create a for loop that will do the following:\n",
    "    # Iterate through the coordinates' zipped tuple.\n",
    "    # Use citipy.nearest_city() and inside the parentheses of nearest_city(),\n",
    "    #      add the latitude and longitude in this format: coordinate[0], coordinate[1].\n",
    "    # To print the city name, chain the city_name to the nearest_city() function.\n",
    "    # To print the country name, chain the country_code to the nearest_city() function."
   ]
  },
  {
   "cell_type": "code",
   "execution_count": 64,
   "id": "1152191b",
   "metadata": {},
   "outputs": [
    {
     "data": {
      "text/plain": [
       "650"
      ]
     },
     "execution_count": 64,
     "metadata": {},
     "output_type": "execute_result"
    }
   ],
   "source": [
    "# Create a list for holding the cities.\n",
    "cities = []\n",
    "# Identify the nearest city for each latitude and longitude combination.\n",
    "for coordinate in coordinates:\n",
    "    city = citipy.nearest_city(coordinate[0], coordinate[1]).city_name\n",
    "\n",
    "    # If the city is unique, then we will add it to the cities list.\n",
    "    if city not in cities:\n",
    "        cities.append(city)\n",
    "# Print the city count to confirm sufficient count.\n",
    "len(cities)"
   ]
  },
  {
   "cell_type": "markdown",
   "id": "a3ff537b",
   "metadata": {},
   "source": [
    "## Recap\n",
    "\n",
    "- Create a cities list to store city names.\n",
    "- Iterate through the coordinates, as in our practice, and retrieve the nearest city using the latitude and longitude pair.\n",
    "- Add a decision statement with the logical operator not in to determine whether the found city is already in the cities list. If not, use the append() function to add it.  \n",
    "    -This is done because among the 1,500 latitudes and longitudes, there might be duplicates, which will retrieve duplicate cities; need to be sure only the unique cities are captured.\n",
    "\n",
    "### NOTE\n",
    "The citipy module finds the nearest city to the latitude and longitude pair with a population of 500 or more."
   ]
  },
  {
   "cell_type": "markdown",
   "id": "e4402a72",
   "metadata": {},
   "source": [
    "# FINDING  \n",
    "When the code block is run, there should be slightly more than 500 unique cities. If there are less than 500, the \"size\" limit on the \"np.random.uniform()\" function must be increased."
   ]
  },
  {
   "cell_type": "code",
   "execution_count": null,
   "id": "6a1665b6",
   "metadata": {},
   "outputs": [],
   "source": []
  }
 ],
 "metadata": {
  "kernelspec": {
   "display_name": "PythonData",
   "language": "python",
   "name": "pythondata"
  },
  "language_info": {
   "codemirror_mode": {
    "name": "ipython",
    "version": 3
   },
   "file_extension": ".py",
   "mimetype": "text/x-python",
   "name": "python",
   "nbconvert_exporter": "python",
   "pygments_lexer": "ipython3",
   "version": "3.9.4"
  }
 },
 "nbformat": 4,
 "nbformat_minor": 5
}
