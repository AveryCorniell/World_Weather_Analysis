{
 "cells": [
  {
   "cell_type": "code",
   "execution_count": 181,
   "id": "d6918295",
   "metadata": {},
   "outputs": [],
   "source": [
    "# 6.1.4 API_Practice\n",
    "# Test: zip a smaller number of latitudes and longitudes; unpack the zipped tuple to see how packing and unpacking works."
   ]
  },
  {
   "cell_type": "code",
   "execution_count": 182,
   "id": "7076963e",
   "metadata": {},
   "outputs": [],
   "source": [
    "# Import the dependencies.\n",
    "import pandas as pd\n",
    "import matplotlib.pyplot as plt\n",
    "import numpy as np\n",
    "import json"
   ]
  },
  {
   "cell_type": "code",
   "execution_count": 183,
   "id": "c3c8f288",
   "metadata": {},
   "outputs": [],
   "source": [
    "# Create a practice set of random latitude and longitude combinations.\n",
    "x = [25.12903645, 25.92017388, 26.62509167, -59.98969384, 37.30571269]\n",
    "y = [-67.59741259, 11.09532135, 74.84233102, -76.89176677, -61.13376282]\n",
    "coordinates = zip(x, y)"
   ]
  },
  {
   "cell_type": "code",
   "execution_count": 184,
   "id": "57802218",
   "metadata": {},
   "outputs": [],
   "source": [
    "# Use the tuple() function to display the latitude and longitude combinations(coordinate pairs).\n",
    "# Output is ordered pairs of x and y coordinates.\n",
    "# ***commented this out to run the citypy.nearest_city tuple function.***\n",
    "#for coordinate in coordinates:\n",
    "    #print(coordinate[0], coordinate[1])"
   ]
  },
  {
   "cell_type": "code",
   "execution_count": 185,
   "id": "7147546e",
   "metadata": {},
   "outputs": [],
   "source": [
    "# unpack lat_lngs zip object into a list; this way only a random set of latitudes and longitudes need to be created at once"
   ]
  },
  {
   "cell_type": "code",
   "execution_count": 186,
   "id": "36c6b5cc",
   "metadata": {},
   "outputs": [],
   "source": [
    "# 6.1.5 API_Practice\n",
    "# Use the citipy module to determine city based on latitude and longitude.\n",
    "from citipy import citipy\n",
    "\n",
    "# Use the five pairs of lats and longs from zip API_practice notebook to get a city and country code from the citipy module.\n",
    "\n",
    "# Create a for loop that will do the following:\n",
    "    # Iterate through the coordinates' zipped tuple.\n",
    "    # Use citipy.nearest_city() and inside the parentheses of nearest_city(), add the latitude and longitude in this format: coordinate[0], coordinate[1].\n",
    "    # To print the city name, chain the city_name to the nearest_city() function.\n",
    "    # To print the country name, chain the country_code to the nearest_city() function."
   ]
  },
  {
   "cell_type": "code",
   "execution_count": 187,
   "id": "cc56c4f8",
   "metadata": {},
   "outputs": [
    {
     "name": "stdout",
     "output_type": "stream",
     "text": [
      "cockburn town tc\n",
      "gat ly\n",
      "parvatsar in\n",
      "punta arenas cl\n",
      "saint george bm\n"
     ]
    }
   ],
   "source": [
    "# Use the tuple() function to display the latitude and longitude combinations.\n",
    "for coordinate in coordinates:\n",
    "    print(citipy.nearest_city(coordinate[0], coordinate[1]).city_name,\n",
    "          citipy.nearest_city(coordinate[0], coordinate[1]).country_code)"
   ]
  },
  {
   "cell_type": "markdown",
   "id": "1cc9c549",
   "metadata": {},
   "source": [
    "# 6.2.1 Understanding APIs - Application Programming Interface  \n",
    "  \n",
    "Requires an API Key\n",
    "An API call is very similar to navigating to a website.  \n",
    "An API points to a URL and collects some data from the webpage or server.  \n",
    "\n",
    "Using an API has its limitations because not all information from a server is accessible. Most APIs have tiered services, from free to paid. Free services allow access to limited information, and paid subscriptions provide more access based on the payment plan.  "
   ]
  },
  {
   "cell_type": "markdown",
   "id": "23b0aaa1",
   "metadata": {},
   "source": [
    "# 6.2.2 Get Started With OpenWeatherMap API  \n",
    "  \n",
    "## The JavaScript Object Notation Format for API Data  \n",
    "  \n",
    "- One format use to parse data from a website is JavaScript Object Notation (JSON).  \n",
    "- Also referred to as an \"object\" or \"JSON object\".  \n",
    "- Data inside a JSON object opens and closes with curly braces, much like a Python dictionary.  \n",
    "    - curly braces that wrap the data, and inside the curly braces are dictionaries and arrays\n",
    "- Inside the JSON object is a collection of dictionaries and arrays.  \n",
    "\n",
    "## The Python Requests Library  \n",
    "- Use the Requests Library in Python to request JSON data over the internet."
   ]
  },
  {
   "cell_type": "code",
   "execution_count": 188,
   "id": "73cc3318",
   "metadata": {},
   "outputs": [
    {
     "data": {
      "text/plain": [
       "'2.25.1'"
      ]
     },
     "execution_count": 188,
     "metadata": {},
     "output_type": "execute_result"
    }
   ],
   "source": [
    "# Check the version of requests installed in Python environment\n",
    "import requests\n",
    "requests.__version__"
   ]
  },
  {
   "cell_type": "markdown",
   "id": "727c6156",
   "metadata": {},
   "source": [
    "# 6.2.3 Make an API Call  \n",
    "\n",
    "Before making an API call for the OpenWeatherMap, use the URL provided on the OpenWeatherMap website.\n",
    "\n",
    "Look at the documentation on the OpenWeatherMap website.\n",
    "\n",
    "Navigate to the OpenWeatherMap API documentation for current weather (Links to an external site.).\n",
    "\n",
    "This page provides instructions on how to make the API call by city name. The structure of our URL should look like the following:\n",
    "\n",
    "api.openweathermap.org/data/2.5/weather?q=city&appid=b6907d289e10d714a6e88b30761fae22\n",
    "\n",
    "Add API key and the city from the cities array for each call.\n",
    "  \n",
    "### **NOTE** Once URL is printed, be sure to delete your printed URL from your notebook. This prevents private API key from being stored in plain text."
   ]
  },
  {
   "cell_type": "code",
   "execution_count": 189,
   "id": "8dd8d624",
   "metadata": {},
   "outputs": [],
   "source": [
    "# Import the requests library.\n",
    "import requests\n",
    "\n",
    "# Import the API key.\n",
    "from config import weather_api_key"
   ]
  },
  {
   "cell_type": "code",
   "execution_count": 190,
   "id": "b764cb68",
   "metadata": {},
   "outputs": [],
   "source": [
    "# Starting URL for Weather Map API Call.\n",
    "# original URL structure from weathermap site: api.openweathermap.org/data/2.5/weather?q={city name}&appid={API key}\n",
    "url = \"http://api.openweathermap.org/data/2.5/weather?units=Imperial&APPID=\" + weather_api_key"
   ]
  },
  {
   "cell_type": "code",
   "execution_count": 191,
   "id": "633aec51",
   "metadata": {},
   "outputs": [],
   "source": [
    "# Note: another feature to the URL was added in the previous cell: units=Imperial.\n",
    "# There are three unit options: standard, metric, and imperial.\n",
    "# Navigating to the units section of the current weather data page(https://openweathermap.org/current#data)\n",
    "#      will show the options for the unit format: standard metric, and imperial."
   ]
  },
  {
   "cell_type": "code",
   "execution_count": 192,
   "id": "28fc5531",
   "metadata": {},
   "outputs": [],
   "source": [
    "# Add a city to the URL to get the current weather data.\n",
    "# Create an endpoint URL for a city.\n",
    "city_url = url + \"&q=\" + \"Boston\""
   ]
  },
  {
   "cell_type": "code",
   "execution_count": 193,
   "id": "d59ffc40",
   "metadata": {},
   "outputs": [],
   "source": [
    "# In the previous cell:\n",
    "#     a string is created to get the weather data for Boston by using the \"city_url\"\n",
    "#     the \"city_url\" is created by adding the parameter,\"&q\" and \"Boston\" to the url\n",
    "#     the output of this cell will be a url, if clicked, a new window opens in a default browser\n",
    "#           that shows current weather data for Boston.\n",
    "#     Note: to make the format of the url JSON format readable, the extension must be added to the browser\n",
    "#     (https://chrome.google.com/webstore/detail/jsonview/chklaanhfefbnpoihckbnefhakgolnmc)-Firefox does not need an extension."
   ]
  },
  {
   "attachments": {
    "HTTP_Methods.png": {
     "image/png": "[encoded data removed]"
    }
   },
   "cell_type": "markdown",
   "id": "1da65d55",
   "metadata": {},
   "source": [
    "# 6.2.4 Make a Request for Data to an API  \n",
    "### Retrieve a Response Using the \"get()\" Method  \n",
    "  \n",
    "Use the \"get()\" method, a feture of the Requests Library, to request data from an API.  \n",
    "The \"get()\" method is one of many HTTP methods that allow to access, add, delete, get the headers, and perform other actions on request.  \n",
    "\n",
    "## List of HTTP Methods and Their Uses\n",
    "\n",
    "![HTTP_Methods.png](attachment:HTTP_Methods.png)  "
   ]
  },
  {
   "cell_type": "code",
   "execution_count": 194,
   "id": "fad88ea1",
   "metadata": {},
   "outputs": [
    {
     "data": {
      "text/plain": [
       "<Response [200]>"
      ]
     },
     "execution_count": 194,
     "metadata": {},
     "output_type": "execute_result"
    }
   ],
   "source": [
    "# Make a 'Get' request for the city weather.\n",
    "city_weather = requests.get(city_url)\n",
    "city_weather"
   ]
  },
  {
   "cell_type": "code",
   "execution_count": 195,
   "id": "c6c9ba6d",
   "metadata": {},
   "outputs": [
    {
     "data": {
      "text/plain": [
       "<Response [404]>"
      ]
     },
     "execution_count": 195,
     "metadata": {},
     "output_type": "execute_result"
    }
   ],
   "source": [
    "# Chain \"status_code\" to the variable to et the status output.\n",
    "# Bad websites appear as a 404 error>may result from an incorrect url, misspellings, etc.\n",
    "# Create an endpoint URL for a misspelled city.\n",
    "city_url = url + \"&q=\" + \"Bston\"\n",
    "city_weather = requests.get(city_url)\n",
    "city_weather"
   ]
  },
  {
   "cell_type": "markdown",
   "id": "794e3e7e",
   "metadata": {},
   "source": [
    "# Get Data From a Response  \n",
    "\n",
    "When a valid response is received from a server, the format has to be decided  \n",
    "The options are text, JSON, XML, or HTML format  \n",
    "The format attributes can be applied to get data into a useful format to parse  \n",
    "- Text is the output of a dictionary of dictionaries and arrays, or a JSON file  \n",
    "    - may not be useful if scientific data such as temperature(\"temp\") or humidity(\"humidity\") needs to be retrieved  \n",
    "- JSON method makes it a lot easier to see the overall structure of the data, which makes it easier to retrieve scientific data  "
   ]
  },
  {
   "cell_type": "code",
   "execution_count": 196,
   "id": "941d8d01",
   "metadata": {},
   "outputs": [
    {
     "data": {
      "text/plain": [
       "<Response [200]>"
      ]
     },
     "execution_count": 196,
     "metadata": {},
     "output_type": "execute_result"
    }
   ],
   "source": [
    "# Create an endpoint URL for a city.\n",
    "city_url = url + \"&q=\" + \"Boston\"\n",
    "city_weather = requests.get(city_url)\n",
    "city_weather"
   ]
  },
  {
   "cell_type": "code",
   "execution_count": 197,
   "id": "80616ee4",
   "metadata": {},
   "outputs": [
    {
     "data": {
      "text/plain": [
       "'{\"coord\":{\"lon\":-71.0598,\"lat\":42.3584},\"weather\":[{\"id\":800,\"main\":\"Clear\",\"description\":\"clear sky\",\"icon\":\"01d\"}],\"base\":\"stations\",\"main\":{\"temp\":78.24,\"feels_like\":78.3,\"temp_min\":72.95,\"temp_max\":83.61,\"pressure\":1020,\"humidity\":54},\"visibility\":10000,\"wind\":{\"speed\":1.99,\"deg\":155,\"gust\":8.99},\"clouds\":{\"all\":0},\"dt\":1627146085,\"sys\":{\"type\":2,\"id\":2013408,\"country\":\"US\",\"sunrise\":1627118936,\"sunset\":1627171934},\"timezone\":-14400,\"id\":4930956,\"name\":\"Boston\",\"cod\":200}'"
      ]
     },
     "execution_count": 197,
     "metadata": {},
     "output_type": "execute_result"
    }
   ],
   "source": [
    "# Text attribute format provides a preview of the JSON data\n",
    "# Get the text of the 'Get' request.\n",
    "city_weather.text"
   ]
  },
  {
   "cell_type": "code",
   "execution_count": 198,
   "id": "e174f6f6",
   "metadata": {},
   "outputs": [
    {
     "data": {
      "text/plain": [
       "{'coord': {'lon': -71.0598, 'lat': 42.3584},\n",
       " 'weather': [{'id': 800,\n",
       "   'main': 'Clear',\n",
       "   'description': 'clear sky',\n",
       "   'icon': '01d'}],\n",
       " 'base': 'stations',\n",
       " 'main': {'temp': 78.24,\n",
       "  'feels_like': 78.3,\n",
       "  'temp_min': 72.95,\n",
       "  'temp_max': 83.61,\n",
       "  'pressure': 1020,\n",
       "  'humidity': 54},\n",
       " 'visibility': 10000,\n",
       " 'wind': {'speed': 1.99, 'deg': 155, 'gust': 8.99},\n",
       " 'clouds': {'all': 0},\n",
       " 'dt': 1627146085,\n",
       " 'sys': {'type': 2,\n",
       "  'id': 2013408,\n",
       "  'country': 'US',\n",
       "  'sunrise': 1627118936,\n",
       "  'sunset': 1627171934},\n",
       " 'timezone': -14400,\n",
       " 'id': 4930956,\n",
       " 'name': 'Boston',\n",
       " 'cod': 200}"
      ]
     },
     "execution_count": 198,
     "metadata": {},
     "output_type": "execute_result"
    }
   ],
   "source": [
    "# Get the JSON text of the 'Get' request.\n",
    "city_weather.json()"
   ]
  },
  {
   "cell_type": "markdown",
   "id": "a00702e8",
   "metadata": {},
   "source": [
    "# Handle Request Errors  \n",
    "This ensures a valid response is received from the request  \n",
    "Done using conditional expressions  \n",
    "\n",
    "  ### **Note**  \n",
    "       In the below example, if the status_code is something other than 200, JSON data will always be returned in the  \n",
    "       request.A response can be determined as successful by checking the status_code, clicking the URL, or retrieving  \n",
    "       specific information from the JSON data."
   ]
  },
  {
   "cell_type": "code",
   "execution_count": 199,
   "id": "141f6393",
   "metadata": {},
   "outputs": [
    {
     "name": "stdout",
     "output_type": "stream",
     "text": [
      "City Weather found.\n"
     ]
    }
   ],
   "source": [
    "# Create an endpoint URL for a city using a conditional expression.\n",
    "city_url = url + \"&q=\" + \"Boston\"\n",
    "city_weather = requests.get(city_url)\n",
    "if city_weather.status_code == 200:\n",
    "    print(f\"City Weather found.\")\n",
    "else:\n",
    "    print(f\"City weather not found.\")"
   ]
  },
  {
   "cell_type": "code",
   "execution_count": 200,
   "id": "2ce2b997",
   "metadata": {},
   "outputs": [
    {
     "name": "stdout",
     "output_type": "stream",
     "text": [
      "city not found\n"
     ]
    }
   ],
   "source": [
    "# Create an endpoint URL for a city.  \n",
    "# *PRINTED CITY WEATHER FOUND* - DEBUG\n",
    "city_url = url + \"&q=\" + \"Bstn\"\n",
    "city_weather = requests.get(city_url)\n",
    "\n",
    "if city_weather.json()['cod'] == \"200\":\n",
    "        print(f\"City Weather found.\")\n",
    "else:\n",
    "        print(f\"{city_weather.json()['message']}\")\n",
    "        \n",
    "# This code did not run as suggested in the instructions and changes had to be made. "
   ]
  },
  {
   "cell_type": "markdown",
   "id": "34283e19",
   "metadata": {},
   "source": [
    "# 6.2.5 Parse a Response from an API  \n",
    "- Data parsing is the method where a string of data gets converted into a different type of data  \n",
    "Next step is to begin mining the JSON file to retrieve specific weather data for each city and add it to a DataFrame.  \n",
    "    \n",
    "### For each city in our {lats_lngs} list, the following data has to be retrieved and added to a DataFrame:  \n",
    "    - City, country, and date  \n",
    "    - Latitude and Longitude  \n",
    "    - Maximum temperature  \n",
    "    - Humidity  \n",
    "    - Cloudiness  \n",
    "    - Wind Speed"
   ]
  },
  {
   "cell_type": "code",
   "execution_count": 201,
   "id": "e013b591",
   "metadata": {},
   "outputs": [
    {
     "data": {
      "text/plain": [
       "{'coord': {'lon': -71.0598, 'lat': 42.3584},\n",
       " 'weather': [{'id': 800,\n",
       "   'main': 'Clear',\n",
       "   'description': 'clear sky',\n",
       "   'icon': '01d'}],\n",
       " 'base': 'stations',\n",
       " 'main': {'temp': 78.24,\n",
       "  'feels_like': 78.3,\n",
       "  'temp_min': 72.95,\n",
       "  'temp_max': 83.61,\n",
       "  'pressure': 1020,\n",
       "  'humidity': 54},\n",
       " 'visibility': 10000,\n",
       " 'wind': {'speed': 1.99, 'deg': 155, 'gust': 8.99},\n",
       " 'clouds': {'all': 0},\n",
       " 'dt': 1627146085,\n",
       " 'sys': {'type': 2,\n",
       "  'id': 2013408,\n",
       "  'country': 'US',\n",
       "  'sunrise': 1627118936,\n",
       "  'sunset': 1627171934},\n",
       " 'timezone': -14400,\n",
       " 'id': 4930956,\n",
       " 'name': 'Boston',\n",
       " 'cod': 200}"
      ]
     },
     "execution_count": 201,
     "metadata": {},
     "output_type": "execute_result"
    }
   ],
   "source": [
    "# Practice\n",
    "# Getting the weather data for Boston.\n",
    "# Create an endpoint URL for a city.\n",
    "city_url = url + \"&q=\" + \"Boston\"\n",
    "city_weather = requests.get(city_url)\n",
    "city_weather.json()"
   ]
  },
  {
   "cell_type": "code",
   "execution_count": 202,
   "id": "366b2d30",
   "metadata": {},
   "outputs": [],
   "source": [
    "# Practice\n",
    "# Assign a variable to the \"city_weather.json()\" data.\n",
    "# Get the JSON data.\n",
    "boston_data = city_weather.json()"
   ]
  },
  {
   "cell_type": "code",
   "execution_count": 203,
   "id": "8f45843b",
   "metadata": {},
   "outputs": [
    {
     "data": {
      "text/plain": [
       "{'type': 2,\n",
       " 'id': 2013408,\n",
       " 'country': 'US',\n",
       " 'sunrise': 1627118936,\n",
       " 'sunset': 1627171934}"
      ]
     },
     "execution_count": 203,
     "metadata": {},
     "output_type": "execute_result"
    }
   ],
   "source": [
    "# Practice\n",
    "# Use the \"[sys]\" key to get the corresponding value\n",
    "boston_data[\"sys\"]"
   ]
  },
  {
   "cell_type": "code",
   "execution_count": 204,
   "id": "361a5d0d",
   "metadata": {},
   "outputs": [
    {
     "data": {
      "text/plain": [
       "'US'"
      ]
     },
     "execution_count": 204,
     "metadata": {},
     "output_type": "execute_result"
    }
   ],
   "source": [
    "# Practice\n",
    "# Add the \"[country]\" key after the \"[sys]\" key to get the country\n",
    "boston_data[\"sys\"][\"country\"]"
   ]
  },
  {
   "cell_type": "markdown",
   "id": "8a290544",
   "metadata": {},
   "source": [
    "## **NOTE**  \n",
    "When using the boston_data[\"sys\"], there was a key for sunrise and a key for sunset in the output.  \n",
    "The value for these keys is the time of day in seconds in a database timestamp format.  \n",
    "  \n",
    "To retrieve the date in the weather data, add the \"[dt]\" key to the variable.  "
   ]
  },
  {
   "cell_type": "code",
   "execution_count": 205,
   "id": "43d0fef5",
   "metadata": {},
   "outputs": [
    {
     "data": {
      "text/plain": [
       "1627146085"
      ]
     },
     "execution_count": 205,
     "metadata": {},
     "output_type": "execute_result"
    }
   ],
   "source": [
    "boston_data[\"dt\"]"
   ]
  },
  {
   "cell_type": "markdown",
   "id": "2a6e4d3e",
   "metadata": {},
   "source": [
    "Using similar syntax to get the time of day,  \n",
    "the latitude, longitude, maximum temperature, humidity, percent cloudiness, and wind speed  \n",
    "can be retrieved.  \n",
    "\n",
    "The output will be all of the weather parameters, with the units for maximum temperature in degrees Fahrenheit,  \n",
    "the humidity and clouds as a percentage, and the wind in miles per hour."
   ]
  },
  {
   "cell_type": "code",
   "execution_count": 206,
   "id": "9f286625",
   "metadata": {},
   "outputs": [
    {
     "name": "stdout",
     "output_type": "stream",
     "text": [
      "42.3584 -71.0598 83.61 54 0 1.99\n"
     ]
    }
   ],
   "source": [
    "lat = boston_data[\"coord\"][\"lat\"]\n",
    "lng = boston_data[\"coord\"][\"lon\"]\n",
    "max_temp = boston_data[\"main\"][\"temp_max\"]\n",
    "humidity = boston_data[\"main\"][\"humidity\"]\n",
    "clouds = boston_data[\"clouds\"][\"all\"]\n",
    "wind = boston_data[\"wind\"][\"speed\"]\n",
    "print(lat, lng, max_temp, humidity, clouds, wind)"
   ]
  },
  {
   "cell_type": "markdown",
   "id": "69202c19",
   "metadata": {},
   "source": [
    "## Convert the Date Timestamp  \n",
    "The date format appears in seconds as seen previously when using the [\"dt\"] key.(ex. 1627124774)  \n",
    "This format is called Coordinated Universal Time(UTC) or Greenwich Mean Time(GMT).  \n",
    "To convert the timestamp to the International Organization for Standardization(ISO) format, or  \n",
    "YYYY-MM-DD-HH-MM-SS, the Python datetime module is used.  \n",
    "The output will be in ISO format but delimited by commas.  \n",
    "This output can be converted and formatted to YYYY-MM-DD HH:MM:SS using the Python string format method \"strftime()\";  \n",
    "    adding how it should print in the parentheses like so:  \n",
    "    \"strftime('%Y-%m-%d %H:%M:%S')\"."
   ]
  },
  {
   "cell_type": "code",
   "execution_count": 207,
   "id": "c6957a61",
   "metadata": {},
   "outputs": [
    {
     "data": {
      "text/plain": [
       "datetime.datetime(2021, 7, 24, 17, 1, 25)"
      ]
     },
     "execution_count": 207,
     "metadata": {},
     "output_type": "execute_result"
    }
   ],
   "source": [
    "# Convert the date from the Boston weather data in the JSON format to the ISO format.  \n",
    "# Import the datetime module from the datetime library.\n",
    "from datetime import datetime\n",
    "# Get the date from the JSON file.\n",
    "date = boston_data[\"dt\"]\n",
    "# Convert the UTC date to a date format with year, month, day, hours, minutes, and seconds.\n",
    "datetime.utcfromtimestamp(date)"
   ]
  },
  {
   "cell_type": "code",
   "execution_count": 208,
   "id": "41fe5762",
   "metadata": {},
   "outputs": [
    {
     "data": {
      "text/plain": [
       "'2021-07-24 17:01:25'"
      ]
     },
     "execution_count": 208,
     "metadata": {},
     "output_type": "execute_result"
    }
   ],
   "source": [
    "# Add .strftime('%Y-%m-%d %H:%M:%S') to the end of the conversion:\n",
    "datetime.utcfromtimestamp(date).strftime('%Y-%m-%d %H:%M:%S')"
   ]
  },
  {
   "cell_type": "markdown",
   "id": "c31f233b",
   "metadata": {},
   "source": [
    "# 6.2.6 Get the City Weather Data  \n",
    "  \n",
    "## Pseudocode  \n",
    "  \n",
    "- Import our dependencies and initialize counters and an empty list that will hold the weather data.  \n",
    "- Loop through the cities list.  \n",
    "- Group the cities in sets of 50 to log the process as we find the weather data for each city.  \n",
    "    - Two counters will be needed here: one to log the city count from 1 to 50, and another for the sets.\n",
    "- Build the city_url or endpoint for each city.\n",
    "- Log the URL and the record and set numbers.  \n",
    "- Make an API request for each city.\n",
    "- Parse the JSON weather data for the following:  \n",
    "    - City, country, and date  \n",
    "    - Latitude and longitude  \n",
    "    - Maximum temperature  \n",
    "    - Humidity  \n",
    "    - Cloudiness  \n",
    "    - Wind speed  \n",
    "- Add the data to a list in a dictionary format and then convert the list to a DataFrame.  "
   ]
  },
  {
   "cell_type": "code",
   "execution_count": 209,
   "id": "7e769b71",
   "metadata": {},
   "outputs": [],
   "source": []
  }
 ],
 "metadata": {
  "kernelspec": {
   "display_name": "PythonData",
   "language": "python",
   "name": "pythondata"
  },
  "language_info": {
   "codemirror_mode": {
    "name": "ipython",
    "version": 3
   },
   "file_extension": ".py",
   "mimetype": "text/x-python",
   "name": "python",
   "nbconvert_exporter": "python",
   "pygments_lexer": "ipython3",
   "version": "3.9.4"
  }
 },
 "nbformat": 4,
 "nbformat_minor": 5
}
