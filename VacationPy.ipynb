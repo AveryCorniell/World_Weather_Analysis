{
 "cells": [
  {
   "cell_type": "markdown",
   "id": "12fec967",
   "metadata": {},
   "source": [
    "# 6.5.1 Set Up Google Maps and Places API  \n",
    "\n",
    "# 6.5.2 Create Heatmaps for Weather Parameters   \n",
    "For a basic heatmap provide the following:  \n",
    "- Latitudes and longitudes for the locations  \n",
    "- A measurement value for each latitude and longitude in the form of arrays that have the same number of items in each array  \n"
   ]
  },
  {
   "cell_type": "code",
   "execution_count": 31,
   "id": "01908bc6",
   "metadata": {},
   "outputs": [],
   "source": [
    "# Import the dependencies.\n",
    "import pandas as pd\n",
    "import gmaps\n",
    "import requests\n",
    "import json\n",
    "# Import the API key.\n",
    "from config import g_key"
   ]
  },
  {
   "cell_type": "code",
   "execution_count": 32,
   "id": "074e88d8",
   "metadata": {},
   "outputs": [
    {
     "data": {
      "text/html": [
       "<div>\n",
       "<style scoped>\n",
       "    .dataframe tbody tr th:only-of-type {\n",
       "        vertical-align: middle;\n",
       "    }\n",
       "\n",
       "    .dataframe tbody tr th {\n",
       "        vertical-align: top;\n",
       "    }\n",
       "\n",
       "    .dataframe thead th {\n",
       "        text-align: right;\n",
       "    }\n",
       "</style>\n",
       "<table border=\"1\" class=\"dataframe\">\n",
       "  <thead>\n",
       "    <tr style=\"text-align: right;\">\n",
       "      <th></th>\n",
       "      <th>City_ID</th>\n",
       "      <th>City</th>\n",
       "      <th>Country</th>\n",
       "      <th>Date</th>\n",
       "      <th>Lat</th>\n",
       "      <th>Lng</th>\n",
       "      <th>Max Temp</th>\n",
       "      <th>Humidity</th>\n",
       "      <th>Cloudiness</th>\n",
       "      <th>Wind Speed</th>\n",
       "    </tr>\n",
       "  </thead>\n",
       "  <tbody>\n",
       "    <tr>\n",
       "      <th>0</th>\n",
       "      <td>0</td>\n",
       "      <td>Rikitea</td>\n",
       "      <td>PF</td>\n",
       "      <td>2021-07-25 22:42:28</td>\n",
       "      <td>-23.1203</td>\n",
       "      <td>-134.9692</td>\n",
       "      <td>71.06</td>\n",
       "      <td>68</td>\n",
       "      <td>15</td>\n",
       "      <td>5.21</td>\n",
       "    </tr>\n",
       "    <tr>\n",
       "      <th>1</th>\n",
       "      <td>1</td>\n",
       "      <td>Xai-Xai</td>\n",
       "      <td>MZ</td>\n",
       "      <td>2021-07-25 22:42:28</td>\n",
       "      <td>-25.0519</td>\n",
       "      <td>33.6442</td>\n",
       "      <td>60.26</td>\n",
       "      <td>72</td>\n",
       "      <td>16</td>\n",
       "      <td>6.44</td>\n",
       "    </tr>\n",
       "    <tr>\n",
       "      <th>2</th>\n",
       "      <td>2</td>\n",
       "      <td>Tasiilaq</td>\n",
       "      <td>GL</td>\n",
       "      <td>2021-07-25 22:42:28</td>\n",
       "      <td>65.6145</td>\n",
       "      <td>-37.6368</td>\n",
       "      <td>42.96</td>\n",
       "      <td>82</td>\n",
       "      <td>35</td>\n",
       "      <td>3.71</td>\n",
       "    </tr>\n",
       "    <tr>\n",
       "      <th>3</th>\n",
       "      <td>3</td>\n",
       "      <td>Maldonado</td>\n",
       "      <td>UY</td>\n",
       "      <td>2021-07-25 22:38:26</td>\n",
       "      <td>-34.6667</td>\n",
       "      <td>-54.9167</td>\n",
       "      <td>60.22</td>\n",
       "      <td>96</td>\n",
       "      <td>84</td>\n",
       "      <td>6.31</td>\n",
       "    </tr>\n",
       "    <tr>\n",
       "      <th>4</th>\n",
       "      <td>4</td>\n",
       "      <td>Cherskiy</td>\n",
       "      <td>RU</td>\n",
       "      <td>2021-07-25 22:42:29</td>\n",
       "      <td>68.7500</td>\n",
       "      <td>161.3000</td>\n",
       "      <td>51.91</td>\n",
       "      <td>52</td>\n",
       "      <td>9</td>\n",
       "      <td>8.14</td>\n",
       "    </tr>\n",
       "  </tbody>\n",
       "</table>\n",
       "</div>"
      ],
      "text/plain": [
       "   City_ID       City Country                 Date      Lat       Lng  \\\n",
       "0        0    Rikitea      PF  2021-07-25 22:42:28 -23.1203 -134.9692   \n",
       "1        1    Xai-Xai      MZ  2021-07-25 22:42:28 -25.0519   33.6442   \n",
       "2        2   Tasiilaq      GL  2021-07-25 22:42:28  65.6145  -37.6368   \n",
       "3        3  Maldonado      UY  2021-07-25 22:38:26 -34.6667  -54.9167   \n",
       "4        4   Cherskiy      RU  2021-07-25 22:42:29  68.7500  161.3000   \n",
       "\n",
       "   Max Temp  Humidity  Cloudiness  Wind Speed  \n",
       "0     71.06        68          15        5.21  \n",
       "1     60.26        72          16        6.44  \n",
       "2     42.96        82          35        3.71  \n",
       "3     60.22        96          84        6.31  \n",
       "4     51.91        52           9        8.14  "
      ]
     },
     "execution_count": 32,
     "metadata": {},
     "output_type": "execute_result"
    }
   ],
   "source": [
    "# The data we use for any mapping must be either an integer or a floating-point decimal number\n",
    "\n",
    "# Store the CSV you saved created in part one into a DataFrame.\n",
    "city_data_df = pd.read_csv(\"weather_data/cities.csv\")\n",
    "city_data_df.head()"
   ]
  },
  {
   "cell_type": "code",
   "execution_count": 33,
   "id": "4dabcf55",
   "metadata": {},
   "outputs": [
    {
     "data": {
      "text/plain": [
       "City_ID         int64\n",
       "City           object\n",
       "Country        object\n",
       "Date           object\n",
       "Lat           float64\n",
       "Lng           float64\n",
       "Max Temp      float64\n",
       "Humidity        int64\n",
       "Cloudiness      int64\n",
       "Wind Speed    float64\n",
       "dtype: object"
      ]
     },
     "execution_count": 33,
     "metadata": {},
     "output_type": "execute_result"
    }
   ],
   "source": [
    "# Get the data types.\n",
    "city_data_df.dtypes"
   ]
  },
  {
   "cell_type": "markdown",
   "id": "89cba6c5",
   "metadata": {},
   "source": [
    "### Create a Maximum Temperature Heatmap  \n",
    "#### Create the heatmap for the maximum temperature. The general syntax for creating a heatmap is as follows:  \n",
    "- 1. Assign the locations to an array of latitude and longitude pairs.\n",
    "locations = [latitude, longitude]\n",
    "- 2. Assign the weights variable to some values.\n",
    "temperatures = # an array of length equal to the locations array length\n",
    "- 3. Assign the figure variable to the gmaps.figure() attribute.\n",
    "fig = gmaps.figure()\n",
    "- 4. Assign the heatmap_layer variable to the heatmap_layer attribute and add in the locations.\n",
    "heatmap_layer = gmaps.heatmap_layer(locations, weights=temperatures)\n",
    "- 5. Add the heatmap layer.\n",
    "fig.add_layer(heatmap_layer)\n",
    "- 6. Call the figure to plot the data.\n",
    "fig"
   ]
  },
  {
   "cell_type": "code",
   "execution_count": 34,
   "id": "1ec3df7c",
   "metadata": {},
   "outputs": [],
   "source": [
    "# Configure gmaps to use your Google API key.\n",
    "gmaps.configure(api_key=g_key)"
   ]
  },
  {
   "cell_type": "markdown",
   "id": "4cf5a3b2",
   "metadata": {},
   "source": [
    "1. Assign the locations to an array of latitude and longitude pairs.\n",
    "- locations = [latitude, longitude]\n",
    "2. Assign the weights variable to some values.\n",
    "- temperatures = # an array of length equal to the locations array length\n",
    "3. Assign the figure variable to the gmaps.figure() attribute.\n",
    "- fig = gmaps.figure()\n",
    "4. Assign the heatmap_layer variable to the heatmap_layer attribute and add in the locations.\n",
    "- heatmap_layer = gmaps.heatmap_layer(locations, weights=temperatures)\n",
    "5. Add the heatmap layer.\n",
    "- fig.add_layer(heatmap_layer)\n",
    "6. Call the figure to plot the data.\n",
    "- fig"
   ]
  },
  {
   "cell_type": "code",
   "execution_count": 35,
   "id": "113d4391",
   "metadata": {},
   "outputs": [],
   "source": [
    "# Get the maximum temperature.\n",
    "max_temp = city_data_df[\"Max Temp\"]\n",
    "temps = []\n",
    "for temp in max_temp:\n",
    "    temps.append(max(temp, 0))"
   ]
  },
  {
   "cell_type": "code",
   "execution_count": 36,
   "id": "624c94da",
   "metadata": {},
   "outputs": [
    {
     "data": {
      "application/vnd.jupyter.widget-view+json": {
       "model_id": "7abaf34300d546adbff6dd1fc691d473",
       "version_major": 2,
       "version_minor": 0
      },
      "text/plain": [
       "Figure(layout=FigureLayout(height='420px'))"
      ]
     },
     "metadata": {},
     "output_type": "display_data"
    }
   ],
   "source": [
    "# Heatmap of temperature\n",
    "# Get the latitude and longitude.\n",
    "locations = city_data_df[[\"Lat\", \"Lng\"]]\n",
    "# Get the maximum temperature.\n",
    "max_temp = city_data_df[\"Max Temp\"]\n",
    "# Assign the figure variable. Add a center and zoom level to the gmaps.figure() attribute\n",
    "# Adjust Heatmap Zoom, Intensity, and Point Radius\n",
    "#      First, add the geographic center of Earth in the form of latitude and longitude (30.0° N and 31.0° E).  \n",
    "#      Also, add a zoom level so that only one map of Earth is shown.\n",
    "fig = gmaps.figure(center=(30.0, 31.0), zoom_level=1.5)\n",
    "# Assign the heatmap variable.\n",
    "#heat_layer = gmaps.heatmap_layer(locations, weights=[max(temp, 0) for temp in max_temp])\n",
    "heat_layer = gmaps.heatmap_layer(locations, weights=temps, dissipating=False, max_intensity=300, point_radius=4)\n",
    "# Add the heatmap layer.\n",
    "fig.add_layer(heat_layer)\n",
    "# Call the figure to plot the data.\n",
    "fig"
   ]
  },
  {
   "cell_type": "markdown",
   "id": "7db3cc60",
   "metadata": {},
   "source": [
    "### Create a Percent Humidity Heatmap\n",
    "Now that we have created our maximum temperature heatmap, create the heatmap for humidity.  \n",
    "Reuse the code and use the humidity values for the measurements."
   ]
  },
  {
   "cell_type": "code",
   "execution_count": 37,
   "id": "c0b384b5",
   "metadata": {},
   "outputs": [
    {
     "data": {
      "application/vnd.jupyter.widget-view+json": {
       "model_id": "5ad016655a914d16b39bfefd29623224",
       "version_major": 2,
       "version_minor": 0
      },
      "text/plain": [
       "Figure(layout=FigureLayout(height='420px'))"
      ]
     },
     "metadata": {},
     "output_type": "display_data"
    }
   ],
   "source": [
    "# Heatmap of percent humidity\n",
    "locations = city_data_df[[\"Lat\", \"Lng\"]]\n",
    "humidity = city_data_df[\"Humidity\"]\n",
    "fig = gmaps.figure(center=(30.0, 31.0), zoom_level=1.5)\n",
    "heat_layer = gmaps.heatmap_layer(locations, weights=humidity, dissipating=False, max_intensity=300, point_radius=4)\n",
    "\n",
    "fig.add_layer(heat_layer)\n",
    "# Call the figure to plot the data.\n",
    "fig"
   ]
  },
  {
   "cell_type": "markdown",
   "id": "f62603b9",
   "metadata": {},
   "source": [
    "### Create a Percent Cloudiness Heatmap"
   ]
  },
  {
   "cell_type": "code",
   "execution_count": 38,
   "id": "476f99f6",
   "metadata": {},
   "outputs": [
    {
     "data": {
      "application/vnd.jupyter.widget-view+json": {
       "model_id": "ea3aab0ed8104252bd35337d9aff002d",
       "version_major": 2,
       "version_minor": 0
      },
      "text/plain": [
       "Figure(layout=FigureLayout(height='420px'))"
      ]
     },
     "metadata": {},
     "output_type": "display_data"
    }
   ],
   "source": [
    "# Heatmap of percent cloudiness\n",
    "locations = city_data_df[[\"Lat\", \"Lng\"]]\n",
    "clouds = city_data_df[\"Cloudiness\"]\n",
    "fig = gmaps.figure(center=(30.0, 31.0), zoom_level=1.5)\n",
    "heat_layer = gmaps.heatmap_layer(locations, weights=clouds, dissipating=False, max_intensity=300, point_radius=4)\n",
    "\n",
    "fig.add_layer(heat_layer)\n",
    "# Call the figure to plot the data.\n",
    "fig"
   ]
  },
  {
   "cell_type": "markdown",
   "id": "9e74201d",
   "metadata": {},
   "source": [
    "### Create a Wind Speed Heatmap"
   ]
  },
  {
   "cell_type": "code",
   "execution_count": 39,
   "id": "3f17c686",
   "metadata": {},
   "outputs": [
    {
     "data": {
      "application/vnd.jupyter.widget-view+json": {
       "model_id": "eea3ef067dd042d2a42df6f044681f80",
       "version_major": 2,
       "version_minor": 0
      },
      "text/plain": [
       "Figure(layout=FigureLayout(height='420px'))"
      ]
     },
     "metadata": {},
     "output_type": "display_data"
    }
   ],
   "source": [
    "# Heatmap of Wind Speed\n",
    "locations = city_data_df[[\"Lat\", \"Lng\"]]\n",
    "wind = city_data_df[\"Wind Speed\"]\n",
    "fig = gmaps.figure(center=(30.0, 31.0), zoom_level=1.5)\n",
    "heat_layer = gmaps.heatmap_layer(locations, weights=wind, dissipating=False, max_intensity=300, point_radius=4)\n",
    "\n",
    "fig.add_layer(heat_layer)\n",
    "# Call the figure to plot the data.\n",
    "fig"
   ]
  },
  {
   "cell_type": "markdown",
   "id": "3bf674e2",
   "metadata": {},
   "source": [
    "# 6.5.3 Get Vacation Data  \n",
    "need to prompt the user to enter the minimum and maximum temperature ranges  \n",
    "as floating-point decimal numbers to filter the city_data_df DataFrame.  \n",
    "To convert the input to a floating-point decimal number,  \n",
    "wrap the input() statement with the float() method, like this: float(input())."
   ]
  },
  {
   "cell_type": "code",
   "execution_count": 40,
   "id": "efb194ea",
   "metadata": {},
   "outputs": [
    {
     "name": "stdout",
     "output_type": "stream",
     "text": [
      "What is the minimum temperature you would like for your trip? 75\n",
      "What is the maximum temperature you would like for your trip? 90\n"
     ]
    }
   ],
   "source": [
    "# Ask the customer to add a minimum and maximum temperature value.\n",
    "min_temp = float(input(\"What is the minimum temperature you would like for your trip? \"))\n",
    "max_temp = float(input(\"What is the maximum temperature you would like for your trip? \"))"
   ]
  },
  {
   "cell_type": "code",
   "execution_count": 41,
   "id": "b563ed90",
   "metadata": {},
   "outputs": [
    {
     "data": {
      "text/html": [
       "<div>\n",
       "<style scoped>\n",
       "    .dataframe tbody tr th:only-of-type {\n",
       "        vertical-align: middle;\n",
       "    }\n",
       "\n",
       "    .dataframe tbody tr th {\n",
       "        vertical-align: top;\n",
       "    }\n",
       "\n",
       "    .dataframe thead th {\n",
       "        text-align: right;\n",
       "    }\n",
       "</style>\n",
       "<table border=\"1\" class=\"dataframe\">\n",
       "  <thead>\n",
       "    <tr style=\"text-align: right;\">\n",
       "      <th></th>\n",
       "      <th>City_ID</th>\n",
       "      <th>City</th>\n",
       "      <th>Country</th>\n",
       "      <th>Date</th>\n",
       "      <th>Lat</th>\n",
       "      <th>Lng</th>\n",
       "      <th>Max Temp</th>\n",
       "      <th>Humidity</th>\n",
       "      <th>Cloudiness</th>\n",
       "      <th>Wind Speed</th>\n",
       "    </tr>\n",
       "  </thead>\n",
       "  <tbody>\n",
       "    <tr>\n",
       "      <th>6</th>\n",
       "      <td>6</td>\n",
       "      <td>Albany</td>\n",
       "      <td>US</td>\n",
       "      <td>2021-07-25 22:42:29</td>\n",
       "      <td>42.6001</td>\n",
       "      <td>-73.9662</td>\n",
       "      <td>81.25</td>\n",
       "      <td>88</td>\n",
       "      <td>29</td>\n",
       "      <td>4.68</td>\n",
       "    </tr>\n",
       "    <tr>\n",
       "      <th>8</th>\n",
       "      <td>8</td>\n",
       "      <td>Gimli</td>\n",
       "      <td>CA</td>\n",
       "      <td>2021-07-25 22:42:30</td>\n",
       "      <td>50.6336</td>\n",
       "      <td>-96.9907</td>\n",
       "      <td>86.43</td>\n",
       "      <td>28</td>\n",
       "      <td>62</td>\n",
       "      <td>11.50</td>\n",
       "    </tr>\n",
       "    <tr>\n",
       "      <th>9</th>\n",
       "      <td>9</td>\n",
       "      <td>Pocone</td>\n",
       "      <td>BR</td>\n",
       "      <td>2021-07-25 22:42:30</td>\n",
       "      <td>-16.2567</td>\n",
       "      <td>-56.6228</td>\n",
       "      <td>82.81</td>\n",
       "      <td>29</td>\n",
       "      <td>2</td>\n",
       "      <td>5.79</td>\n",
       "    </tr>\n",
       "    <tr>\n",
       "      <th>14</th>\n",
       "      <td>14</td>\n",
       "      <td>Les Cayes</td>\n",
       "      <td>HT</td>\n",
       "      <td>2021-07-25 22:42:31</td>\n",
       "      <td>18.2000</td>\n",
       "      <td>-73.7500</td>\n",
       "      <td>82.11</td>\n",
       "      <td>76</td>\n",
       "      <td>100</td>\n",
       "      <td>6.40</td>\n",
       "    </tr>\n",
       "    <tr>\n",
       "      <th>15</th>\n",
       "      <td>15</td>\n",
       "      <td>Bonthe</td>\n",
       "      <td>SL</td>\n",
       "      <td>2021-07-25 22:42:32</td>\n",
       "      <td>7.5264</td>\n",
       "      <td>-12.5050</td>\n",
       "      <td>76.62</td>\n",
       "      <td>82</td>\n",
       "      <td>100</td>\n",
       "      <td>6.02</td>\n",
       "    </tr>\n",
       "    <tr>\n",
       "      <th>17</th>\n",
       "      <td>17</td>\n",
       "      <td>Linjiang</td>\n",
       "      <td>CN</td>\n",
       "      <td>2021-07-25 22:42:32</td>\n",
       "      <td>41.8069</td>\n",
       "      <td>126.9078</td>\n",
       "      <td>78.35</td>\n",
       "      <td>76</td>\n",
       "      <td>99</td>\n",
       "      <td>2.01</td>\n",
       "    </tr>\n",
       "    <tr>\n",
       "      <th>19</th>\n",
       "      <td>19</td>\n",
       "      <td>San Cristobal</td>\n",
       "      <td>VE</td>\n",
       "      <td>2021-07-25 22:42:33</td>\n",
       "      <td>7.7669</td>\n",
       "      <td>-72.2250</td>\n",
       "      <td>75.38</td>\n",
       "      <td>86</td>\n",
       "      <td>100</td>\n",
       "      <td>3.13</td>\n",
       "    </tr>\n",
       "    <tr>\n",
       "      <th>22</th>\n",
       "      <td>22</td>\n",
       "      <td>Hithadhoo</td>\n",
       "      <td>MV</td>\n",
       "      <td>2021-07-25 22:42:34</td>\n",
       "      <td>-0.6000</td>\n",
       "      <td>73.0833</td>\n",
       "      <td>81.01</td>\n",
       "      <td>73</td>\n",
       "      <td>90</td>\n",
       "      <td>4.45</td>\n",
       "    </tr>\n",
       "    <tr>\n",
       "      <th>23</th>\n",
       "      <td>23</td>\n",
       "      <td>Avarua</td>\n",
       "      <td>CK</td>\n",
       "      <td>2021-07-25 22:42:34</td>\n",
       "      <td>-21.2078</td>\n",
       "      <td>-159.7750</td>\n",
       "      <td>78.85</td>\n",
       "      <td>73</td>\n",
       "      <td>40</td>\n",
       "      <td>9.22</td>\n",
       "    </tr>\n",
       "    <tr>\n",
       "      <th>28</th>\n",
       "      <td>28</td>\n",
       "      <td>Yucca Valley</td>\n",
       "      <td>US</td>\n",
       "      <td>2021-07-25 22:39:04</td>\n",
       "      <td>34.1142</td>\n",
       "      <td>-116.4322</td>\n",
       "      <td>89.82</td>\n",
       "      <td>44</td>\n",
       "      <td>51</td>\n",
       "      <td>5.99</td>\n",
       "    </tr>\n",
       "  </tbody>\n",
       "</table>\n",
       "</div>"
      ],
      "text/plain": [
       "    City_ID           City Country                 Date      Lat       Lng  \\\n",
       "6         6         Albany      US  2021-07-25 22:42:29  42.6001  -73.9662   \n",
       "8         8          Gimli      CA  2021-07-25 22:42:30  50.6336  -96.9907   \n",
       "9         9         Pocone      BR  2021-07-25 22:42:30 -16.2567  -56.6228   \n",
       "14       14      Les Cayes      HT  2021-07-25 22:42:31  18.2000  -73.7500   \n",
       "15       15         Bonthe      SL  2021-07-25 22:42:32   7.5264  -12.5050   \n",
       "17       17       Linjiang      CN  2021-07-25 22:42:32  41.8069  126.9078   \n",
       "19       19  San Cristobal      VE  2021-07-25 22:42:33   7.7669  -72.2250   \n",
       "22       22      Hithadhoo      MV  2021-07-25 22:42:34  -0.6000   73.0833   \n",
       "23       23         Avarua      CK  2021-07-25 22:42:34 -21.2078 -159.7750   \n",
       "28       28   Yucca Valley      US  2021-07-25 22:39:04  34.1142 -116.4322   \n",
       "\n",
       "    Max Temp  Humidity  Cloudiness  Wind Speed  \n",
       "6      81.25        88          29        4.68  \n",
       "8      86.43        28          62       11.50  \n",
       "9      82.81        29           2        5.79  \n",
       "14     82.11        76         100        6.40  \n",
       "15     76.62        82         100        6.02  \n",
       "17     78.35        76          99        2.01  \n",
       "19     75.38        86         100        3.13  \n",
       "22     81.01        73          90        4.45  \n",
       "23     78.85        73          40        9.22  \n",
       "28     89.82        44          51        5.99  "
      ]
     },
     "execution_count": 41,
     "metadata": {},
     "output_type": "execute_result"
    }
   ],
   "source": [
    "# Filter the dataset to find the cities that fit the criteria.\n",
    "preferred_cities_df = city_data_df.loc[(city_data_df[\"Max Temp\"] <= max_temp) & \\\n",
    "                                       (city_data_df[\"Max Temp\"] >= min_temp)]\n",
    "preferred_cities_df.head(10)"
   ]
  },
  {
   "cell_type": "code",
   "execution_count": 42,
   "id": "7f710b45",
   "metadata": {},
   "outputs": [
    {
     "data": {
      "text/plain": [
       "City_ID       217\n",
       "City          217\n",
       "Country       217\n",
       "Date          217\n",
       "Lat           217\n",
       "Lng           217\n",
       "Max Temp      217\n",
       "Humidity      217\n",
       "Cloudiness    217\n",
       "Wind Speed    217\n",
       "dtype: int64"
      ]
     },
     "execution_count": 42,
     "metadata": {},
     "output_type": "execute_result"
    }
   ],
   "source": [
    "# Determine if there are any null values and drop nulls\n",
    "preferred_cities_df.dropna().count()"
   ]
  },
  {
   "cell_type": "markdown",
   "id": "3444a22a",
   "metadata": {},
   "source": [
    "# 6.5.4 Map Vacation Criteria\n",
    "Once the customers have filtered the database (DataFrame) based on their temperature preferences,  \n",
    "show them a heatmap for the maximum temperature for the filtered cities. In addition, create a marker for  \n",
    "each city that will display the name of the city, country code, maximum temperature,  \n",
    "and name of a nearby hotel within three miles of the coordinates when the marker is clicked.  \n",
    "\n",
    "Using the coordinates from the preferred_cities_df DataFrame, find a hotel using our Google Places API and  \n",
    "then retrieve that hotel information. Once we retrieve the hotel information,  \n",
    "we'll need to store it so we can reference it and add the information to the pop-up marker.  "
   ]
  },
  {
   "cell_type": "markdown",
   "id": "b94b5745",
   "metadata": {},
   "source": [
    "### Get Travel Destinations  \n",
    "Need to create a new DataFrame specifically for the data needed to create a heatmap and pop-up markers.  \n",
    "Make a copy of the preferred_cities_df DataFrame and name it hotel_df.  \n",
    "For the hotel_df, keep the columns \"City,\" \"Country,\" \"Max Temp,\" \"Lat,\" and \"Lng.\" \n",
    "Add a new column to the hotel_df DataFrame to hold the name of the hotel."
   ]
  },
  {
   "cell_type": "code",
   "execution_count": 43,
   "id": "39538424",
   "metadata": {},
   "outputs": [
    {
     "data": {
      "text/html": [
       "<div>\n",
       "<style scoped>\n",
       "    .dataframe tbody tr th:only-of-type {\n",
       "        vertical-align: middle;\n",
       "    }\n",
       "\n",
       "    .dataframe tbody tr th {\n",
       "        vertical-align: top;\n",
       "    }\n",
       "\n",
       "    .dataframe thead th {\n",
       "        text-align: right;\n",
       "    }\n",
       "</style>\n",
       "<table border=\"1\" class=\"dataframe\">\n",
       "  <thead>\n",
       "    <tr style=\"text-align: right;\">\n",
       "      <th></th>\n",
       "      <th>City</th>\n",
       "      <th>Country</th>\n",
       "      <th>Max Temp</th>\n",
       "      <th>Lat</th>\n",
       "      <th>Lng</th>\n",
       "      <th>Hotel Name</th>\n",
       "    </tr>\n",
       "  </thead>\n",
       "  <tbody>\n",
       "    <tr>\n",
       "      <th>6</th>\n",
       "      <td>Albany</td>\n",
       "      <td>US</td>\n",
       "      <td>81.25</td>\n",
       "      <td>42.6001</td>\n",
       "      <td>-73.9662</td>\n",
       "      <td></td>\n",
       "    </tr>\n",
       "    <tr>\n",
       "      <th>8</th>\n",
       "      <td>Gimli</td>\n",
       "      <td>CA</td>\n",
       "      <td>86.43</td>\n",
       "      <td>50.6336</td>\n",
       "      <td>-96.9907</td>\n",
       "      <td></td>\n",
       "    </tr>\n",
       "    <tr>\n",
       "      <th>9</th>\n",
       "      <td>Pocone</td>\n",
       "      <td>BR</td>\n",
       "      <td>82.81</td>\n",
       "      <td>-16.2567</td>\n",
       "      <td>-56.6228</td>\n",
       "      <td></td>\n",
       "    </tr>\n",
       "    <tr>\n",
       "      <th>14</th>\n",
       "      <td>Les Cayes</td>\n",
       "      <td>HT</td>\n",
       "      <td>82.11</td>\n",
       "      <td>18.2000</td>\n",
       "      <td>-73.7500</td>\n",
       "      <td></td>\n",
       "    </tr>\n",
       "    <tr>\n",
       "      <th>15</th>\n",
       "      <td>Bonthe</td>\n",
       "      <td>SL</td>\n",
       "      <td>76.62</td>\n",
       "      <td>7.5264</td>\n",
       "      <td>-12.5050</td>\n",
       "      <td></td>\n",
       "    </tr>\n",
       "    <tr>\n",
       "      <th>17</th>\n",
       "      <td>Linjiang</td>\n",
       "      <td>CN</td>\n",
       "      <td>78.35</td>\n",
       "      <td>41.8069</td>\n",
       "      <td>126.9078</td>\n",
       "      <td></td>\n",
       "    </tr>\n",
       "    <tr>\n",
       "      <th>19</th>\n",
       "      <td>San Cristobal</td>\n",
       "      <td>VE</td>\n",
       "      <td>75.38</td>\n",
       "      <td>7.7669</td>\n",
       "      <td>-72.2250</td>\n",
       "      <td></td>\n",
       "    </tr>\n",
       "    <tr>\n",
       "      <th>22</th>\n",
       "      <td>Hithadhoo</td>\n",
       "      <td>MV</td>\n",
       "      <td>81.01</td>\n",
       "      <td>-0.6000</td>\n",
       "      <td>73.0833</td>\n",
       "      <td></td>\n",
       "    </tr>\n",
       "    <tr>\n",
       "      <th>23</th>\n",
       "      <td>Avarua</td>\n",
       "      <td>CK</td>\n",
       "      <td>78.85</td>\n",
       "      <td>-21.2078</td>\n",
       "      <td>-159.7750</td>\n",
       "      <td></td>\n",
       "    </tr>\n",
       "    <tr>\n",
       "      <th>28</th>\n",
       "      <td>Yucca Valley</td>\n",
       "      <td>US</td>\n",
       "      <td>89.82</td>\n",
       "      <td>34.1142</td>\n",
       "      <td>-116.4322</td>\n",
       "      <td></td>\n",
       "    </tr>\n",
       "  </tbody>\n",
       "</table>\n",
       "</div>"
      ],
      "text/plain": [
       "             City Country  Max Temp      Lat       Lng Hotel Name\n",
       "6          Albany      US     81.25  42.6001  -73.9662           \n",
       "8           Gimli      CA     86.43  50.6336  -96.9907           \n",
       "9          Pocone      BR     82.81 -16.2567  -56.6228           \n",
       "14      Les Cayes      HT     82.11  18.2000  -73.7500           \n",
       "15         Bonthe      SL     76.62   7.5264  -12.5050           \n",
       "17       Linjiang      CN     78.35  41.8069  126.9078           \n",
       "19  San Cristobal      VE     75.38   7.7669  -72.2250           \n",
       "22      Hithadhoo      MV     81.01  -0.6000   73.0833           \n",
       "23         Avarua      CK     78.85 -21.2078 -159.7750           \n",
       "28   Yucca Valley      US     89.82  34.1142 -116.4322           "
      ]
     },
     "execution_count": 43,
     "metadata": {},
     "output_type": "execute_result"
    }
   ],
   "source": [
    "# Create DataFrame called hotel_df to store hotel names along with city, country, max temp, and coordinates.\n",
    "hotel_df = preferred_cities_df[[\"City\", \"Country\", \"Max Temp\", \"Lat\", \"Lng\"]].copy()\n",
    "hotel_df[\"Hotel Name\"] = \"\"\n",
    "hotel_df.head(10)"
   ]
  },
  {
   "cell_type": "markdown",
   "id": "481eb1ff",
   "metadata": {},
   "source": [
    "### Retrieve Hotels from a Nearby Search  \n",
    "The first step for retrieving hotels from a Nearby Search is to set the parameters for the search.  \n",
    "#### Set the Parameters for a Nearby Search  \n",
    "To find the nearest establishment to geographic coordinates,  \n",
    "use the Google Places Nearby Search request. First, navigate to the Nearby Search requests page.  \n",
    "\n",
    "The Nearby Search request lets us perform these tasks:\n",
    "- Search for places within a specified area.\n",
    "- Refine the search using keywords and specifying the type of place we are searching for.\n",
    "- Use an API URL, where the output can be either XML or JSON format.\n",
    "- Although very similar to our OpenWeatherMap API search, with the Google Places Nearby Search, we'll add a specified area and keyword to search.\n",
    "\n",
    "The documentation states must provide specific parameters."
   ]
  },
  {
   "cell_type": "markdown",
   "id": "21718200",
   "metadata": {},
   "source": [
    "#### Specific parameters include:\n",
    "- Our API key\n",
    "- A location, which will be the latitude and longitude\n",
    "- A radius for the search. The radius can be up to 50,000 meters or approximately 31 miles. This distance is much too great for finding hotels, so we'll keep our search to 5,000 meters.\n",
    "- If we use the rankby=distance for a parameter, we need to add one or more of the three parameters above. We won't use the rankby=distance because we will be search based on the radius from a given latitude and longitude.\n",
    "We can add optional parameters such as a keyword, a type of business, or the name of a business.\n",
    "\n",
    "#### For our hotel search, we'll use these parameters:\n",
    "- API key\n",
    "- Latitude and longitude\n",
    "- 5,000-meter radius\n",
    "- Type of place\n",
    "To discover the support types we can use, click on the link \"list of supported types\"  \n",
    "in the optional parameters list (shown in the image above) or navigate to the Place Types guide (Links to an external site.).\n",
    "\n",
    "On the webpage, Table 1 shows all the different Place types values.  \n",
    "\"Hotel\" does not appear, but \"lodging\" does, so we will use the string \"lodging\" for the type parameter."
   ]
  },
  {
   "cell_type": "code",
   "execution_count": 99,
   "id": "a6bfecbd",
   "metadata": {},
   "outputs": [
    {
     "name": "stdout",
     "output_type": "stream",
     "text": [
      "Hotel not found... skipping.\n",
      "Hotel not found... skipping.\n",
      "Hotel not found... skipping.\n",
      "Hotel not found... skipping.\n",
      "Hotel not found... skipping.\n",
      "Hotel not found... skipping.\n",
      "Hotel not found... skipping.\n",
      "Hotel not found... skipping.\n",
      "Hotel not found... skipping.\n",
      "Hotel not found... skipping.\n",
      "Hotel not found... skipping.\n",
      "Hotel not found... skipping.\n",
      "Hotel not found... skipping.\n",
      "Hotel not found... skipping.\n",
      "Hotel not found... skipping.\n",
      "Hotel not found... skipping.\n",
      "Hotel not found... skipping.\n",
      "Hotel not found... skipping.\n",
      "Hotel not found... skipping.\n",
      "Hotel not found... skipping.\n"
     ]
    }
   ],
   "source": [
    "# Set parameters to search for a hotel.\n",
    "params = {\n",
    "    \"radius\": 5000,\n",
    "    \"type\": \"lodging\",\n",
    "    \"key\": g_key\n",
    "}  \n",
    "\n",
    "# Iterate through the DataFrame.\n",
    "for index, row in hotel_df.iterrows():\n",
    "    # Get the latitude and longitude.\n",
    "    lat = row[\"Lat\"]\n",
    "    lng = row[\"Lng\"]\n",
    "\n",
    "    # Add the latitude and longitude to location key for the params dictionary.\n",
    "    params[\"location\"] = f\"{lat},{lng}\"\n",
    "\n",
    "    # Use the search term: \"lodging\" and our latitude and longitude.\n",
    "    base_url = \"https://maps.googleapis.com/maps/api/place/nearbysearch/json\"\n",
    "    # Make request and get the JSON data from the search.\n",
    "    hotels = requests.get(base_url, params=params).json()\n",
    "    # Grab the first hotel from the results and store the name.\n",
    "    try:\n",
    "        hotel_df.loc[index, \"Hotel Name\"] = hotels[\"results\"][0][\"name\"]\n",
    "    except (IndexError):\n",
    "        print(\"Hotel not found... skipping.\")\n",
    "    hotel_df"
   ]
  },
  {
   "cell_type": "code",
   "execution_count": 100,
   "id": "6ba17456",
   "metadata": {},
   "outputs": [
    {
     "data": {
      "text/plain": [
       "20"
      ]
     },
     "execution_count": 100,
     "metadata": {},
     "output_type": "execute_result"
    }
   ],
   "source": [
    "len(hotels[\"results\"])"
   ]
  },
  {
   "cell_type": "code",
   "execution_count": 101,
   "id": "cf63990b",
   "metadata": {},
   "outputs": [
    {
     "data": {
      "text/html": [
       "<div>\n",
       "<style scoped>\n",
       "    .dataframe tbody tr th:only-of-type {\n",
       "        vertical-align: middle;\n",
       "    }\n",
       "\n",
       "    .dataframe tbody tr th {\n",
       "        vertical-align: top;\n",
       "    }\n",
       "\n",
       "    .dataframe thead th {\n",
       "        text-align: right;\n",
       "    }\n",
       "</style>\n",
       "<table border=\"1\" class=\"dataframe\">\n",
       "  <thead>\n",
       "    <tr style=\"text-align: right;\">\n",
       "      <th></th>\n",
       "      <th>City</th>\n",
       "      <th>Country</th>\n",
       "      <th>Max Temp</th>\n",
       "      <th>Lat</th>\n",
       "      <th>Lng</th>\n",
       "      <th>Hotel Name</th>\n",
       "    </tr>\n",
       "  </thead>\n",
       "  <tbody>\n",
       "    <tr>\n",
       "      <th>6</th>\n",
       "      <td>Albany</td>\n",
       "      <td>US</td>\n",
       "      <td>81.25</td>\n",
       "      <td>42.6001</td>\n",
       "      <td>-73.9662</td>\n",
       "      <td></td>\n",
       "    </tr>\n",
       "    <tr>\n",
       "      <th>8</th>\n",
       "      <td>Gimli</td>\n",
       "      <td>CA</td>\n",
       "      <td>86.43</td>\n",
       "      <td>50.6336</td>\n",
       "      <td>-96.9907</td>\n",
       "      <td>Lakeview Gimli Resort</td>\n",
       "    </tr>\n",
       "    <tr>\n",
       "      <th>9</th>\n",
       "      <td>Pocone</td>\n",
       "      <td>BR</td>\n",
       "      <td>82.81</td>\n",
       "      <td>-16.2567</td>\n",
       "      <td>-56.6228</td>\n",
       "      <td>Hotel e Churrascaria Pantaneira</td>\n",
       "    </tr>\n",
       "    <tr>\n",
       "      <th>14</th>\n",
       "      <td>Les Cayes</td>\n",
       "      <td>HT</td>\n",
       "      <td>82.11</td>\n",
       "      <td>18.2000</td>\n",
       "      <td>-73.7500</td>\n",
       "      <td>Villa Orphee</td>\n",
       "    </tr>\n",
       "    <tr>\n",
       "      <th>15</th>\n",
       "      <td>Bonthe</td>\n",
       "      <td>SL</td>\n",
       "      <td>76.62</td>\n",
       "      <td>7.5264</td>\n",
       "      <td>-12.5050</td>\n",
       "      <td>Bonthe Holiday Village</td>\n",
       "    </tr>\n",
       "    <tr>\n",
       "      <th>...</th>\n",
       "      <td>...</td>\n",
       "      <td>...</td>\n",
       "      <td>...</td>\n",
       "      <td>...</td>\n",
       "      <td>...</td>\n",
       "      <td>...</td>\n",
       "    </tr>\n",
       "    <tr>\n",
       "      <th>580</th>\n",
       "      <td>Tari</td>\n",
       "      <td>NG</td>\n",
       "      <td>81.28</td>\n",
       "      <td>12.4086</td>\n",
       "      <td>4.4914</td>\n",
       "      <td></td>\n",
       "    </tr>\n",
       "    <tr>\n",
       "      <th>581</th>\n",
       "      <td>Pumiao</td>\n",
       "      <td>CN</td>\n",
       "      <td>75.60</td>\n",
       "      <td>22.7500</td>\n",
       "      <td>108.4833</td>\n",
       "      <td>Mushang Boutique Hotel</td>\n",
       "    </tr>\n",
       "    <tr>\n",
       "      <th>582</th>\n",
       "      <td>Two Hills</td>\n",
       "      <td>CA</td>\n",
       "      <td>77.88</td>\n",
       "      <td>53.7169</td>\n",
       "      <td>-111.7518</td>\n",
       "      <td>Junction Inn</td>\n",
       "    </tr>\n",
       "    <tr>\n",
       "      <th>584</th>\n",
       "      <td>Shawville</td>\n",
       "      <td>CA</td>\n",
       "      <td>81.09</td>\n",
       "      <td>45.6001</td>\n",
       "      <td>-76.4827</td>\n",
       "      <td>Shawville Hotel</td>\n",
       "    </tr>\n",
       "    <tr>\n",
       "      <th>585</th>\n",
       "      <td>Jiaohe</td>\n",
       "      <td>CN</td>\n",
       "      <td>75.90</td>\n",
       "      <td>43.7286</td>\n",
       "      <td>127.3447</td>\n",
       "      <td>Home Inn Fashion Hotel</td>\n",
       "    </tr>\n",
       "  </tbody>\n",
       "</table>\n",
       "<p>217 rows × 6 columns</p>\n",
       "</div>"
      ],
      "text/plain": [
       "          City Country  Max Temp      Lat       Lng  \\\n",
       "6       Albany      US     81.25  42.6001  -73.9662   \n",
       "8        Gimli      CA     86.43  50.6336  -96.9907   \n",
       "9       Pocone      BR     82.81 -16.2567  -56.6228   \n",
       "14   Les Cayes      HT     82.11  18.2000  -73.7500   \n",
       "15      Bonthe      SL     76.62   7.5264  -12.5050   \n",
       "..         ...     ...       ...      ...       ...   \n",
       "580       Tari      NG     81.28  12.4086    4.4914   \n",
       "581     Pumiao      CN     75.60  22.7500  108.4833   \n",
       "582  Two Hills      CA     77.88  53.7169 -111.7518   \n",
       "584  Shawville      CA     81.09  45.6001  -76.4827   \n",
       "585     Jiaohe      CN     75.90  43.7286  127.3447   \n",
       "\n",
       "                          Hotel Name  \n",
       "6                                     \n",
       "8              Lakeview Gimli Resort  \n",
       "9    Hotel e Churrascaria Pantaneira  \n",
       "14                      Villa Orphee  \n",
       "15            Bonthe Holiday Village  \n",
       "..                               ...  \n",
       "580                                   \n",
       "581           Mushang Boutique Hotel  \n",
       "582                     Junction Inn  \n",
       "584                  Shawville Hotel  \n",
       "585           Home Inn Fashion Hotel  \n",
       "\n",
       "[217 rows x 6 columns]"
      ]
     },
     "execution_count": 101,
     "metadata": {},
     "output_type": "execute_result"
    }
   ],
   "source": [
    "hotel_df.dropna()"
   ]
  },
  {
   "cell_type": "markdown",
   "id": "8053ca4e",
   "metadata": {},
   "source": [
    "### Create a Maximum Temperature Heatmap from a Hotel DataFrame"
   ]
  },
  {
   "cell_type": "code",
   "execution_count": 103,
   "id": "6402b770",
   "metadata": {},
   "outputs": [],
   "source": [
    "info_box_template = \"\"\"\n",
    "<dl>\n",
    "<dt>Hotel Name</dt><dd>{Hotel Name}</dd>\n",
    "<dt>City</dt><dd>{City}</dd>\n",
    "<dt>Country</dt><dd>{Country}</dd>\n",
    "<dt>Max Temp</dt><dd>{Max Temp} °F</dd>\n",
    "</dl>\n",
    "\"\"\""
   ]
  },
  {
   "cell_type": "code",
   "execution_count": 104,
   "id": "a99fe825",
   "metadata": {},
   "outputs": [],
   "source": [
    "# Store the DataFrame Row.\n",
    "hotel_info = [info_box_template.format(**row)\n",
    "              for index, row in hotel_df.iterrows()]"
   ]
  },
  {
   "cell_type": "code",
   "execution_count": 106,
   "id": "af015ce5",
   "metadata": {},
   "outputs": [
    {
     "data": {
      "application/vnd.jupyter.widget-view+json": {
       "model_id": "82894212cc9f4c46b4487840ec2ece67",
       "version_major": 2,
       "version_minor": 0
      },
      "text/plain": [
       "Figure(layout=FigureLayout(height='420px'))"
      ]
     },
     "metadata": {},
     "output_type": "display_data"
    }
   ],
   "source": [
    "# Add a heatmap of temperature for the vacation spots and marker for each city.\n",
    "locations = hotel_df[[\"Lat\", \"Lng\"]]\n",
    "max_temp = hotel_df[\"Max Temp\"]\n",
    "fig = gmaps.figure(center=(30.0, 31.0), zoom_level=1.5)\n",
    "heat_layer = gmaps.heatmap_layer(locations, weights=max_temp,\n",
    "             dissipating=False, max_intensity=300, point_radius=4)\n",
    "marker_layer = gmaps.marker_layer(locations, info_box_content=hotel_info)\n",
    "fig.add_layer(heat_layer)\n",
    "fig.add_layer(marker_layer)\n",
    "\n",
    "# Call the figure to plot the data.\n",
    "fig"
   ]
  },
  {
   "cell_type": "code",
   "execution_count": 77,
   "id": "127f4f45",
   "metadata": {},
   "outputs": [],
   "source": []
  },
  {
   "cell_type": "code",
   "execution_count": null,
   "id": "e9755428",
   "metadata": {},
   "outputs": [],
   "source": []
  }
 ],
 "metadata": {
  "kernelspec": {
   "display_name": "PythonData",
   "language": "python",
   "name": "pythondata"
  },
  "language_info": {
   "codemirror_mode": {
    "name": "ipython",
    "version": 3
   },
   "file_extension": ".py",
   "mimetype": "text/x-python",
   "name": "python",
   "nbconvert_exporter": "python",
   "pygments_lexer": "ipython3",
   "version": "3.9.4"
  }
 },
 "nbformat": 4,
 "nbformat_minor": 5
}
